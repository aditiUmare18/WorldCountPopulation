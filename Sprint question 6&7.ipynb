{
 "cells": [
  {
   "cell_type": "code",
   "execution_count": 34,
   "id": "1c65719d-63ec-4d0c-98d7-7c001efb94f6",
   "metadata": {},
   "outputs": [
    {
     "data": {
      "text/html": [
       "\n",
       "            <div>\n",
       "                <p><b>SparkSession - in-memory</b></p>\n",
       "                \n",
       "        <div>\n",
       "            <p><b>SparkContext</b></p>\n",
       "\n",
       "            <p><a href=\"http://10.235.32.138:4042\">Spark UI</a></p>\n",
       "\n",
       "            <dl>\n",
       "              <dt>Version</dt>\n",
       "                <dd><code>v3.5.5</code></dd>\n",
       "              <dt>Master</dt>\n",
       "                <dd><code>local[*]</code></dd>\n",
       "              <dt>AppName</dt>\n",
       "                <dd><code>MySparkApp</code></dd>\n",
       "            </dl>\n",
       "        </div>\n",
       "        \n",
       "            </div>\n",
       "        "
      ],
      "text/plain": [
       "<pyspark.sql.session.SparkSession at 0x1e6efa3de10>"
      ]
     },
     "execution_count": 34,
     "metadata": {},
     "output_type": "execute_result"
    }
   ],
   "source": [
    "import findspark\n",
    "findspark.init()\n",
    "from pyspark.sql import SparkSession\n",
    "spark = SparkSession.builder \\\n",
    "    .appName(\"MySparkApp\") \\\n",
    "    .getOrCreate()\n",
    "spark"
   ]
  },
  {
   "cell_type": "code",
   "execution_count": 35,
   "id": "93357495-2919-441c-ae09-633c43545956",
   "metadata": {},
   "outputs": [],
   "source": [
    "from pyspark.sql import SparkSession\n",
    "from pyspark.sql.functions import col, sum"
   ]
  },
  {
   "cell_type": "code",
   "execution_count": 36,
   "id": "4c95ddf3-ce76-452b-9888-00cf9b3d21bc",
   "metadata": {},
   "outputs": [],
   "source": [
    "rural = spark.read.option(\"header\", \"true\").option(\"inferSchema\", \"true\").csv(\"C:\\\\Users\\\\ridwived\\\\Downloads\\\\FINAL_POPULATION_RURAL.csv\").alias(\"r\")"
   ]
  },
  {
   "cell_type": "code",
   "execution_count": 37,
   "id": "b0049f76-2663-46df-8534-c435b0a004e8",
   "metadata": {},
   "outputs": [],
   "source": [
    "urban = spark.read.option(\"header\", \"true\").option(\"inferSchema\", \"true\").csv(\"C:\\\\Users\\\\ridwived\\\\Downloads\\\\FINAL_POPULATION_URBAN.csv\").alias(\"u\")"
   ]
  },
  {
   "cell_type": "code",
   "execution_count": 38,
   "id": "5de4716c-b416-4476-86ca-1e896946700b",
   "metadata": {},
   "outputs": [],
   "source": [
    "df = rural.join(urban, rural[\"COUNTRY ID\"] == urban[\"COUNTRY ID\"]).drop(urban[\"COUNTRY\"]).drop(urban[\"COUNTRY ID\"]).drop(urban[\"CONTINENT\"]).drop(urban[\"DEVELOPMENT_CATEGORY\"]).drop(urban[\"GOVERNANCE\"])"
   ]
  },
  {
   "cell_type": "code",
   "execution_count": 39,
   "id": "b4efd344-2b3c-4342-b986-d145174cb4f7",
   "metadata": {},
   "outputs": [],
   "source": [
    "\n",
    "# Total Population of a Particular Country in a Particular Year\n",
    "\n",
    "country = \"India\"\n",
    "year = \"2000\"\n",
    "year_col = f\"D_{year}\"\n",
    "\n"
   ]
  },
  {
   "cell_type": "code",
   "execution_count": 40,
   "id": "8a09aa9b-bab7-44e5-bdbf-730c1a5584da",
   "metadata": {},
   "outputs": [],
   "source": [
    "rural_pop = rural.filter(col(\"COUNTRY\") == country).select(col(year_col).cast(\"long\")).first()[0]"
   ]
  },
  {
   "cell_type": "code",
   "execution_count": 41,
   "id": "a31bd892-8103-4983-8d4d-907cb4ad1d46",
   "metadata": {},
   "outputs": [],
   "source": [
    "\n",
    "urban_pop = urban.filter(col(\"COUNTRY\") == country).select(col(year_col).cast(\"long\")).first()[0]"
   ]
  },
  {
   "cell_type": "code",
   "execution_count": 42,
   "id": "946f22ff-6635-413b-9468-aba2ffd752db",
   "metadata": {},
   "outputs": [],
   "source": [
    "\n",
    "total_population = rural_pop + urban_pop\n",
    "result = spark.createDataFrame([(country, year, total_population)],[\"Country\", \"Year\", \"Total_Population\"])\n"
   ]
  },
  {
   "cell_type": "code",
   "execution_count": 44,
   "id": "a13002e3-218a-4f9d-83c7-2f2e5f807774",
   "metadata": {},
   "outputs": [
    {
     "name": "stdout",
     "output_type": "stream",
     "text": [
      "+-------+----+----------------+\n",
      "|Country|Year|Total_Population|\n",
      "+-------+----+----------------+\n",
      "|  India|2000|         1053898|\n",
      "+-------+----+----------------+\n",
      "\n"
     ]
    }
   ],
   "source": [
    "result.show()"
   ]
  },
  {
   "cell_type": "code",
   "execution_count": 28,
   "id": "079ac164-6198-40d3-816e-3f9bd2428451",
   "metadata": {},
   "outputs": [],
   "source": [
    "\n",
    "# Total Population of a Particular Continent in a Particular Year\n",
    "\n",
    "continent = \"Asia\"\n",
    "year2 = \"2000\"\n",
    "year_col2 = f\"D_{year2}\"\n"
   ]
  },
  {
   "cell_type": "code",
   "execution_count": 29,
   "id": "218384c7-104d-4daa-b75c-21667107ca4f",
   "metadata": {},
   "outputs": [],
   "source": [
    "\n",
    "rural_filtered = rural.filter(col(\"CONTINENT\") == continent).select(col(year_col2).cast(\"long\").alias(\"rural_pop\"))\n"
   ]
  },
  {
   "cell_type": "code",
   "execution_count": 30,
   "id": "f059210a-fc53-4867-9476-440b778eedab",
   "metadata": {},
   "outputs": [],
   "source": [
    "\n",
    "urban_filtered = urban.filter(col(\"CONTINENT\") == continent).select(col(year_col2).cast(\"long\").alias(\"urban_pop\"))\n"
   ]
  },
  {
   "cell_type": "code",
   "execution_count": 31,
   "id": "fb9464b5-afe0-40d3-9cd3-a89646981d5d",
   "metadata": {},
   "outputs": [],
   "source": [
    "\n",
    "total_rural = rural_filtered.agg(sum(\"rural_pop\")).first()[0]\n",
    "total_urban = urban_filtered.agg(sum(\"urban_pop\")).first()[0]\n",
    "total_population2 = total_rural + total_urban\n"
   ]
  },
  {
   "cell_type": "code",
   "execution_count": 32,
   "id": "a67f19ae-06be-4592-80d1-27d92540f74d",
   "metadata": {},
   "outputs": [],
   "source": [
    "\n",
    "result2 = spark.createDataFrame([(continent, year2, total_population2)],[\"Continent\", \"Year\", \"Total_Population\"])\n"
   ]
  },
  {
   "cell_type": "code",
   "execution_count": 45,
   "id": "8042039d-38ab-4fd5-8b22-547a616d90ef",
   "metadata": {},
   "outputs": [
    {
     "name": "stdout",
     "output_type": "stream",
     "text": [
      "+---------+----+----------------+\n",
      "|Continent|Year|Total_Population|\n",
      "+---------+----+----------------+\n",
      "|     Asia|2000|         3719049|\n",
      "+---------+----+----------------+\n",
      "\n"
     ]
    }
   ],
   "source": [
    "result2.show()"
   ]
  },
  {
   "cell_type": "code",
   "execution_count": null,
   "id": "b81452fd-ec17-41c4-8265-e1b502ed3b67",
   "metadata": {},
   "outputs": [],
   "source": []
  }
 ],
 "metadata": {
  "kernelspec": {
   "display_name": "Python 3 (ipykernel)",
   "language": "python",
   "name": "python3"
  },
  "language_info": {
   "codemirror_mode": {
    "name": "ipython",
    "version": 3
   },
   "file_extension": ".py",
   "mimetype": "text/x-python",
   "name": "python",
   "nbconvert_exporter": "python",
   "pygments_lexer": "ipython3",
   "version": "3.11.9"
  }
 },
 "nbformat": 4,
 "nbformat_minor": 5
}
