{
 "cells": [
  {
   "cell_type": "code",
   "execution_count": 1,
   "id": "4dccc42b-6bbb-4698-8466-461ede409acc",
   "metadata": {},
   "outputs": [
    {
     "data": {
      "text/html": [
       "\n",
       "            <div>\n",
       "                <p><b>SparkSession - in-memory</b></p>\n",
       "                \n",
       "        <div>\n",
       "            <p><b>SparkContext</b></p>\n",
       "\n",
       "            <p><a href=\"http://LIN-5CG5162M0X:4040\">Spark UI</a></p>\n",
       "\n",
       "            <dl>\n",
       "              <dt>Version</dt>\n",
       "                <dd><code>v3.5.5</code></dd>\n",
       "              <dt>Master</dt>\n",
       "                <dd><code>local[*]</code></dd>\n",
       "              <dt>AppName</dt>\n",
       "                <dd><code>MySparkApp</code></dd>\n",
       "            </dl>\n",
       "        </div>\n",
       "        \n",
       "            </div>\n",
       "        "
      ],
      "text/plain": [
       "<pyspark.sql.session.SparkSession at 0x1e3f81e9f10>"
      ]
     },
     "execution_count": 1,
     "metadata": {},
     "output_type": "execute_result"
    }
   ],
   "source": [
    "import findspark\n",
    "findspark.init()\n",
    "from pyspark.sql import SparkSession\n",
    "spark = SparkSession.builder \\\n",
    "    .appName(\"MySparkApp\") \\\n",
    "    .getOrCreate()\n",
    "spark"
   ]
  },
  {
   "cell_type": "code",
   "execution_count": 2,
   "id": "166f18ea-c25a-44c5-83bc-d2f07f234187",
   "metadata": {},
   "outputs": [],
   "source": [
    "# Step 1: Import SparkContext\n",
    "\n",
    "from pyspark import SparkContext\n",
    "\n",
    "# Step 2: Initialize SparkContext (use getOrCreate to avoid multiple context errors)\n",
    "\n",
    "sc = SparkContext.getOrCreate()"
   ]
  },
  {
   "cell_type": "code",
   "execution_count": 3,
   "id": "e1d12af5-5062-4c29-a2ab-b16c9836bdfe",
   "metadata": {},
   "outputs": [],
   "source": [
    "from pyspark.sql import SparkSession\n",
    "from pyspark.sql.functions import col, sum"
   ]
  },
  {
   "cell_type": "code",
   "execution_count": 4,
   "id": "99435ab6-1795-4036-b865-b1b7e2fdbae5",
   "metadata": {},
   "outputs": [],
   "source": [
    "# Create Spark session\n",
    "spark = SparkSession.builder.appName(\"My Spark\").master(\"local[*]\").getOrCreate()"
   ]
  },
  {
   "cell_type": "code",
   "execution_count": 21,
   "id": "9d943159-e49d-4582-8724-afce68deba96",
   "metadata": {},
   "outputs": [],
   "source": [
    "# Load Rural Dataset and Rename Column\n",
    "ruralDF = spark.read.option(\"header\", \"true\").csv(\"C:/Users/ajaypalu/Downloads/FINAL_POPULATION_RURAL 4.csv\").withColumnRenamed(\"D_2025\", \"Rural_2025\")"
   ]
  },
  {
   "cell_type": "code",
   "execution_count": 22,
   "id": "a35d92de-9bff-4ed4-b8a8-cfe5fe23bdb6",
   "metadata": {},
   "outputs": [],
   "source": [
    "# Load Urban Dataset and Rename Column\n",
    "urbanDF = spark.read.option(\"header\", \"true\").csv(\"C:/Users/ajaypalu/Downloads/FINAL_POPULATION_URBAN 3.csv\").withColumnRenamed(\"D_2025\", \"Urban_2025\")"
   ]
  },
  {
   "cell_type": "code",
   "execution_count": 31,
   "id": "a435f424-2cce-447b-9466-5d6946f26135",
   "metadata": {},
   "outputs": [],
   "source": [
    "ruralDF = ruralDF.drop(\"CONTINENT\")"
   ]
  },
  {
   "cell_type": "code",
   "execution_count": 32,
   "id": "659e5abc-333c-4782-8dd0-4ca4c3581436",
   "metadata": {},
   "outputs": [],
   "source": [
    "# Join on \"Country ID\"\n",
    "joinDF = urbanDF.join(ruralDF, on=\"Country ID\", how=\"inner\")"
   ]
  },
  {
   "cell_type": "code",
   "execution_count": 33,
   "id": "0ecec1ab-e757-40e3-81f3-0b1dfc52674a",
   "metadata": {},
   "outputs": [],
   "source": [
    "updatedDF = joinDF \\\n",
    "    .withColumn(\"Urban_2025\", col(\"Urban_2025\").cast(\"long\")) \\\n",
    "    .withColumn(\"Rural_2025\", col(\"Rural_2025\").cast(\"long\")) \\\n",
    "    .withColumn(\"Total_2025\", col(\"Urban_2025\") + col(\"Rural_2025\"))"
   ]
  },
  {
   "cell_type": "code",
   "execution_count": 34,
   "id": "e94a4ac8-e4aa-410f-a2fb-e7de181b0431",
   "metadata": {},
   "outputs": [],
   "source": [
    "# Continent Wise Total Population\n",
    "result1 = updatedDF.select(\"CONTINENT\", \"Total_2025\") \\\n",
    "                   .groupBy(\"CONTINENT\") \\\n",
    "                   .agg(sum(\"Total_2025\").alias(\"Total_Population_2025\"))"
   ]
  },
  {
   "cell_type": "code",
   "execution_count": 35,
   "id": "3a8faeb4-b155-4c75-955f-1dac0d136a1a",
   "metadata": {},
   "outputs": [
    {
     "name": "stdout",
     "output_type": "stream",
     "text": [
      "+--------------------+---------------------+\n",
      "|           CONTINENT|Total_Population_2025|\n",
      "+--------------------+---------------------+\n",
      "|              Europe|               743826|\n",
      "|Latin America and...|               678697|\n",
      "|              Africa|              1417060|\n",
      "|    Northern America|               388405|\n",
      "|             Oceania|                44626|\n",
      "|                Asia|              4715469|\n",
      "+--------------------+---------------------+\n",
      "\n"
     ]
    }
   ],
   "source": [
    "result1.show()"
   ]
  },
  {
   "cell_type": "code",
   "execution_count": 38,
   "id": "37037387-8b59-4050-a534-c6c9618ab898",
   "metadata": {},
   "outputs": [],
   "source": [
    "# Save Continent-wise result as Parquet\n",
    "result1.write.parquet(\"C:/Users/ajaypalu/OneDrive - Capgemini/Desktop/pySparkOutput1\")"
   ]
  },
  {
   "cell_type": "code",
   "execution_count": 39,
   "id": "a0a21d55-9a94-4be1-8d35-55b50e6f085d",
   "metadata": {},
   "outputs": [
    {
     "name": "stdout",
     "output_type": "stream",
     "text": [
      "+--------------+---------------------+\n",
      "|   DEVELOPMENT|Total_Population_2025|\n",
      "+--------------+---------------------+\n",
      "|LESS DEVELOPED|              6701473|\n",
      "|MORE DEVELOPED|              1286610|\n",
      "+--------------+---------------------+\n",
      "\n"
     ]
    }
   ],
   "source": [
    "# Development Wise Total Population\n",
    "result3 = updatedDF.select(\"DEVELOPMENT\", \"Total_2025\") \\\n",
    "                   .groupBy(\"DEVELOPMENT\") \\\n",
    "                   .agg(sum(\"Total_2025\").alias(\"Total_Population_2025\"))\n",
    " \n",
    "result3.show()"
   ]
  },
  {
   "cell_type": "code",
   "execution_count": 40,
   "id": "4f0e011a-d3d6-4e45-9007-d902237f9eee",
   "metadata": {},
   "outputs": [],
   "source": [
    "# Save Development-wise result as CSV\n",
    "result3.write.option(\"header\", \"true\").csv(\"C:/Users/ajaypalu/OneDrive - Capgemini/Desktop/pySparkOutput3\")"
   ]
  },
  {
   "cell_type": "code",
   "execution_count": null,
   "id": "0ba8d98e-bca4-4de7-9b37-7f062532b2b1",
   "metadata": {},
   "outputs": [],
   "source": []
  }
 ],
 "metadata": {
  "kernelspec": {
   "display_name": "Python 3 (ipykernel)",
   "language": "python",
   "name": "python3"
  },
  "language_info": {
   "codemirror_mode": {
    "name": "ipython",
    "version": 3
   },
   "file_extension": ".py",
   "mimetype": "text/x-python",
   "name": "python",
   "nbconvert_exporter": "python",
   "pygments_lexer": "ipython3",
   "version": "3.9.13"
  }
 },
 "nbformat": 4,
 "nbformat_minor": 5
}
