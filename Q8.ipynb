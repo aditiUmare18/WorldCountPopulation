{
 "cells": [
  {
   "cell_type": "code",
   "execution_count": 7,
   "id": "cd19ec6c-cee9-4436-8f30-55ae1139fc7c",
   "metadata": {},
   "outputs": [
    {
     "data": {
      "text/html": [
       "\n",
       "            <div>\n",
       "                <p><b>SparkSession - in-memory</b></p>\n",
       "                \n",
       "        <div>\n",
       "            <p><b>SparkContext</b></p>\n",
       "\n",
       "            <p><a href=\"http://10.235.51.160:4041\">Spark UI</a></p>\n",
       "\n",
       "            <dl>\n",
       "              <dt>Version</dt>\n",
       "                <dd><code>v3.5.5</code></dd>\n",
       "              <dt>Master</dt>\n",
       "                <dd><code>local[*]</code></dd>\n",
       "              <dt>AppName</dt>\n",
       "                <dd><code>MySparkApp</code></dd>\n",
       "            </dl>\n",
       "        </div>\n",
       "        \n",
       "            </div>\n",
       "        "
      ],
      "text/plain": [
       "<pyspark.sql.session.SparkSession at 0x1c2ce5bd2d0>"
      ]
     },
     "execution_count": 7,
     "metadata": {},
     "output_type": "execute_result"
    }
   ],
   "source": [
    "import findspark\n",
    "\n",
    "findspark.init()\n",
    "\n",
    "from pyspark.sql import SparkSession\n",
    "\n",
    "spark = SparkSession.builder.appName(\"MySparkApp\").getOrCreate()\n",
    "\n",
    "spark"
   ]
  },
  {
   "cell_type": "code",
   "execution_count": 8,
   "id": "15552a78-fffd-48a6-9909-3743c01033a8",
   "metadata": {},
   "outputs": [],
   "source": [
    "\n",
    "from pyspark.sql import SparkSession\n",
    "from pyspark.sql.functions import col, sum as _sum, desc\n",
    "from pyspark.sql.types import LongType\n",
    "\n",
    "\n"
   ]
  },
  {
   "cell_type": "code",
   "execution_count": 9,
   "id": "5e7bc5cf-8e8f-488d-80d5-c58111ba7a01",
   "metadata": {},
   "outputs": [],
   "source": [
    "# Initialize Spark session\n",
    "spark = SparkSession.builder.appName(\"World Population Analysis\").master(\"local[*]\").getOrCreate()"
   ]
  },
  {
   "cell_type": "code",
   "execution_count": 10,
   "id": "d4f66f84-bc46-4a4c-8065-7c655105d5d1",
   "metadata": {},
   "outputs": [],
   "source": [
    "\n",
    "# Load CSV files with header and infer schema\n",
    "urban_df = spark.read.option(\"header\", \"true\").option(\"inferSchema\", \"true\").csv(\"C:/Users/kchangde/Downloads/FINAL_POPULATION_URBAN 2.csv\")\n",
    "\n",
    "rural_df = spark.read.option(\"header\", \"true\").option(\"inferSchema\", \"true\").csv(\"C:/Users/kchangde/Downloads/FINAL_POPULATION_RURAL 2.csv\")\n"
   ]
  },
  {
   "cell_type": "code",
   "execution_count": 13,
   "id": "16a8726d-367f-4a8b-9bd9-09fbb7d71e3e",
   "metadata": {},
   "outputs": [],
   "source": [
    "\n",
    "# Rename column to match\n",
    "urban_renamed = urban_df.withColumnRenamed(\"DEVELOPMENT_CATEGORY\", \"DEVELOPMENT\")\n"
   ]
  },
  {
   "cell_type": "code",
   "execution_count": 14,
   "id": "c9207637-ac33-4139-8f8c-bdee06e648bd",
   "metadata": {},
   "outputs": [],
   "source": [
    "\n",
    "\n",
    "# Create list of year columns\n",
    "year_cols = [col(f\"D_{year}\") for year in range(1950, 2051, 5)]\n",
    "\n"
   ]
  },
  {
   "cell_type": "code",
   "execution_count": 15,
   "id": "6050971f-a349-4f97-8068-b86744ffa1ce",
   "metadata": {},
   "outputs": [],
   "source": [
    "\n",
    "# Add total population column\n",
    "urban_with_total = urban_renamed.withColumn(\"TOTAL_POPULATION\", sum(year_cols))\n",
    "rural_with_total = rural_df.withColumn(\"TOTAL_POPULATION\", sum(year_cols))\n"
   ]
  },
  {
   "cell_type": "code",
   "execution_count": 16,
   "id": "0ee891e8-2d7d-4106-b5e8-4482ecd0831e",
   "metadata": {},
   "outputs": [],
   "source": [
    "\n",
    "\n",
    "merged_df = urban_with_total.unionByName(rural_with_total)\n"
   ]
  },
  {
   "cell_type": "code",
   "execution_count": 18,
   "id": "d36d2653-3ded-47cd-ae85-eeb8f864669a",
   "metadata": {},
   "outputs": [],
   "source": [
    "\n",
    "# Group by continent and sum total population\n",
    "continent_total = merged_df.groupBy(\"CONTINENT\").agg(_sum(\"TOTAL_POPULATION\").alias(\"TOTAL_POPULATION\")).withColumn(\"TOTAL_POPULATION\", col(\"TOTAL_POPULATION\").cast(LongType()))\n"
   ]
  },
  {
   "cell_type": "code",
   "execution_count": 19,
   "id": "c90ab8c0-80e0-4426-bbdf-a2d99736486c",
   "metadata": {},
   "outputs": [],
   "source": [
    "\n",
    "# Get top continent\n",
    "top_continent = continent_total.orderBy(desc(\"TOTAL_POPULATION\")).limit(1)\n"
   ]
  },
  {
   "cell_type": "code",
   "execution_count": 20,
   "id": "d36e4b91-a047-425e-9d9f-32a750ef846d",
   "metadata": {},
   "outputs": [
    {
     "name": "stdout",
     "output_type": "stream",
     "text": [
      "🌍 Continent with Highest Total Population:\n",
      "+---------+----------------+\n",
      "|CONTINENT|TOTAL_POPULATION|\n",
      "+---------+----------------+\n",
      "|Asia     |73949554        |\n",
      "+---------+----------------+\n",
      "\n"
     ]
    }
   ],
   "source": [
    "\n",
    "print(\"🌍 Continent with Highest Total Population:\")\n",
    "top_continent.show(truncate=False)\n",
    "\n"
   ]
  },
  {
   "cell_type": "code",
   "execution_count": 22,
   "id": "3f1b00c1-ea34-4287-ad77-e3c781672ce7",
   "metadata": {},
   "outputs": [],
   "source": [
    "top_continent.write.mode(\"overwrite\").orc(\"C:/Users/kchangde/Desktop/PY8.orc\")\n"
   ]
  },
  {
   "cell_type": "code",
   "execution_count": null,
   "id": "438b8a2d-37ce-4a7d-852e-3e8079b35f13",
   "metadata": {},
   "outputs": [],
   "source": []
  }
 ],
 "metadata": {
  "kernelspec": {
   "display_name": "Python 3 (ipykernel)",
   "language": "python",
   "name": "python3"
  },
  "language_info": {
   "codemirror_mode": {
    "name": "ipython",
    "version": 3
   },
   "file_extension": ".py",
   "mimetype": "text/x-python",
   "name": "python",
   "nbconvert_exporter": "python",
   "pygments_lexer": "ipython3",
   "version": "3.11.0"
  }
 },
 "nbformat": 4,
 "nbformat_minor": 5
}
