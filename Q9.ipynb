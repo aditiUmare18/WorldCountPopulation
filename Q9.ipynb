{
 "cells": [
  {
   "cell_type": "code",
   "execution_count": 1,
   "id": "709f17f4-db8a-48d2-8d81-6fda08f67295",
   "metadata": {},
   "outputs": [
    {
     "data": {
      "text/html": [
       "\n",
       "            <div>\n",
       "                <p><b>SparkSession - in-memory</b></p>\n",
       "                \n",
       "        <div>\n",
       "            <p><b>SparkContext</b></p>\n",
       "\n",
       "            <p><a href=\"http://10.235.51.160:4040\">Spark UI</a></p>\n",
       "\n",
       "            <dl>\n",
       "              <dt>Version</dt>\n",
       "                <dd><code>v3.5.5</code></dd>\n",
       "              <dt>Master</dt>\n",
       "                <dd><code>local[*]</code></dd>\n",
       "              <dt>AppName</dt>\n",
       "                <dd><code>MySparkApp</code></dd>\n",
       "            </dl>\n",
       "        </div>\n",
       "        \n",
       "            </div>\n",
       "        "
      ],
      "text/plain": [
       "<pyspark.sql.session.SparkSession at 0x1cf75a36510>"
      ]
     },
     "execution_count": 1,
     "metadata": {},
     "output_type": "execute_result"
    }
   ],
   "source": [
    "import findspark\n",
    "\n",
    "findspark.init()\n",
    "\n",
    "from pyspark.sql import SparkSession\n",
    "\n",
    "spark = SparkSession.builder.appName(\"MySparkApp\").getOrCreate()\n",
    "\n",
    "spark"
   ]
  },
  {
   "cell_type": "code",
   "execution_count": 2,
   "id": "8418bb2b-88bc-431d-8f29-587820251a7c",
   "metadata": {},
   "outputs": [],
   "source": [
    "from pyspark.sql import SparkSession\n",
    "from pyspark.sql.functions import col, sum as _sum, desc\n",
    "from pyspark.sql.types import LongType"
   ]
  },
  {
   "cell_type": "code",
   "execution_count": 3,
   "id": "9684adc5-858e-4e71-9a39-b0591608161b",
   "metadata": {},
   "outputs": [],
   "source": [
    "# Initialize Spark session\n",
    "spark = SparkSession.builder.appName(\"World Population Analysis\").master(\"local[*]\").getOrCreate()"
   ]
  },
  {
   "cell_type": "code",
   "execution_count": 4,
   "id": "ec567f9c-f670-4383-b68e-6df7b3db25e9",
   "metadata": {},
   "outputs": [],
   "source": [
    "# Load CSV files with header and infer schema\n",
    "urban_df = spark.read.option(\"header\", \"true\").option(\"inferSchema\", \"true\").csv(\"C:/Users/kchangde/Downloads/FINAL_POPULATION_URBAN 2.csv\")\n",
    "\n",
    "rural_df = spark.read.option(\"header\", \"true\").option(\"inferSchema\", \"true\").csv(\"C:/Users/kchangde/Downloads/FINAL_POPULATION_RURAL 2.csv\")\n"
   ]
  },
  {
   "cell_type": "code",
   "execution_count": 5,
   "id": "6451f3cf-a015-48be-935f-530926704d35",
   "metadata": {},
   "outputs": [],
   "source": [
    "\n",
    "# Rename column to match\n",
    "urban_renamed = urban_df.withColumnRenamed(\"DEVELOPMENT_CATEGORY\", \"DEVELOPMENT\")\n",
    "\n"
   ]
  },
  {
   "cell_type": "code",
   "execution_count": 6,
   "id": "92a2c591-c7da-48a9-9163-5844b2c30a0c",
   "metadata": {},
   "outputs": [],
   "source": [
    "# Create list of year columns\n",
    "year_cols = [col(f\"D_{year}\") for year in range(1950, 2051, 5)]\n"
   ]
  },
  {
   "cell_type": "code",
   "execution_count": 7,
   "id": "6a9237fb-5b02-4b1e-a956-4623e9103c22",
   "metadata": {},
   "outputs": [],
   "source": [
    "# Add total population column\n",
    "urban_with_total = urban_renamed.withColumn(\"TOTAL_POPULATION\", sum(year_cols))\n",
    "rural_with_total = rural_df.withColumn(\"TOTAL_POPULATION\", sum(year_cols))\n"
   ]
  },
  {
   "cell_type": "code",
   "execution_count": 8,
   "id": "7fc486c4-5f79-4e49-aaf5-aba275c09db4",
   "metadata": {},
   "outputs": [],
   "source": [
    "# Merge datasets\n",
    "merged_df = urban_with_total.unionByName(rural_with_total)"
   ]
  },
  {
   "cell_type": "code",
   "execution_count": 11,
   "id": "5a35a61b-6ba2-4a6f-9e6f-b4fb9248f1c0",
   "metadata": {},
   "outputs": [],
   "source": [
    "# Group by country and sum total population\n",
    "country_total = merged_df.groupBy(\"COUNTRY\").agg(_sum(\"TOTAL_POPULATION\").alias(\"TOTAL_POPULATION\")).withColumn(\"TOTAL_POPULATION\", col(\"TOTAL_POPULATION\").cast(LongType()))\n"
   ]
  },
  {
   "cell_type": "code",
   "execution_count": 12,
   "id": "823e3846-0529-4012-a95f-7a4cdd62bad9",
   "metadata": {},
   "outputs": [],
   "source": [
    "# Get top country\n",
    "top_country = country_total.orderBy(desc(\"TOTAL_POPULATION\")).limit(1)\n"
   ]
  },
  {
   "cell_type": "code",
   "execution_count": 13,
   "id": "1287c458-5139-4391-8a79-44ddb49b8836",
   "metadata": {},
   "outputs": [
    {
     "name": "stdout",
     "output_type": "stream",
     "text": [
      "🏆 Country with Highest Total Population:\n",
      "+-------+----------------+\n",
      "|COUNTRY|TOTAL_POPULATION|\n",
      "+-------+----------------+\n",
      "|China  |23490064        |\n",
      "+-------+----------------+\n",
      "\n"
     ]
    }
   ],
   "source": [
    "print(\"🏆 Country with Highest Total Population:\")\n",
    "top_country.show(truncate=False)\n"
   ]
  },
  {
   "cell_type": "code",
   "execution_count": 15,
   "id": "688ae727-6627-47d9-9ec8-953638117095",
   "metadata": {},
   "outputs": [],
   "source": [
    "top_country.write.mode(\"overwrite\").orc(\"C:/Users/kchangde/Desktop/PY9.orc\")\n",
    "\n"
   ]
  },
  {
   "cell_type": "code",
   "execution_count": null,
   "id": "4342ea46-7f31-48b0-83a0-99964c90a5b3",
   "metadata": {},
   "outputs": [],
   "source": []
  }
 ],
 "metadata": {
  "kernelspec": {
   "display_name": "Python 3 (ipykernel)",
   "language": "python",
   "name": "python3"
  },
  "language_info": {
   "codemirror_mode": {
    "name": "ipython",
    "version": 3
   },
   "file_extension": ".py",
   "mimetype": "text/x-python",
   "name": "python",
   "nbconvert_exporter": "python",
   "pygments_lexer": "ipython3",
   "version": "3.11.0"
  }
 },
 "nbformat": 4,
 "nbformat_minor": 5
}
