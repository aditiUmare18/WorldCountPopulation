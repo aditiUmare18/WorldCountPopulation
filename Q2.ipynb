{
 "cells": [
  {
   "cell_type": "code",
   "execution_count": 2,
   "id": "ea8ff300-af48-4608-b677-369f611bd4d9",
   "metadata": {},
   "outputs": [
    {
     "name": "stdout",
     "output_type": "stream",
     "text": [
      "Requirement already satisfied: findspark in c:\\users\\kchangde\\appdata\\local\\programs\\python\\python311\\lib\\site-packages (2.0.1)\n",
      "Note: you may need to restart the kernel to use updated packages.\n"
     ]
    }
   ],
   "source": [
    "\n",
    "pip install findspark\n"
   ]
  },
  {
   "cell_type": "code",
   "execution_count": 36,
   "id": "817ad533-aee8-4089-b8d5-9b2dab86a641",
   "metadata": {},
   "outputs": [
    {
     "data": {
      "text/html": [
       "\n",
       "            <div>\n",
       "                <p><b>SparkSession - in-memory</b></p>\n",
       "                \n",
       "        <div>\n",
       "            <p><b>SparkContext</b></p>\n",
       "\n",
       "            <p><a href=\"http://10.235.51.160:4040\">Spark UI</a></p>\n",
       "\n",
       "            <dl>\n",
       "              <dt>Version</dt>\n",
       "                <dd><code>v3.5.5</code></dd>\n",
       "              <dt>Master</dt>\n",
       "                <dd><code>local[*]</code></dd>\n",
       "              <dt>AppName</dt>\n",
       "                <dd><code>MySparkApp</code></dd>\n",
       "            </dl>\n",
       "        </div>\n",
       "        \n",
       "            </div>\n",
       "        "
      ],
      "text/plain": [
       "<pyspark.sql.session.SparkSession at 0x1d7910d4590>"
      ]
     },
     "execution_count": 36,
     "metadata": {},
     "output_type": "execute_result"
    }
   ],
   "source": [
    "import findspark\n",
    "\n",
    "findspark.init()\n",
    "\n",
    "from pyspark.sql import SparkSession\n",
    "\n",
    "spark = SparkSession.builder.appName(\"MySparkApp\").getOrCreate()\n",
    "\n",
    "spark"
   ]
  },
  {
   "cell_type": "code",
   "execution_count": 45,
   "id": "d69ce7f2-00c0-413c-b507-8ce1a3bba485",
   "metadata": {},
   "outputs": [],
   "source": [
    "\n",
    "from pyspark.sql import SparkSession\n",
    "from pyspark.sql.functions import col, sum as _sum\n",
    "\n",
    "from functools import reduce\n",
    "from operator import add\n",
    "\n"
   ]
  },
  {
   "cell_type": "code",
   "execution_count": 46,
   "id": "ca20af5d-3ece-457e-a0ce-5fd25031e9ec",
   "metadata": {},
   "outputs": [],
   "source": [
    "\n",
    "import findspark\n",
    "findspark.init()\n",
    "\n",
    "from pyspark.sql import SparkSession\n",
    "\n",
    "spark = SparkSession.builder.appName(\"MyApp\").master(\"local[*]\").getOrCreate()\n"
   ]
  },
  {
   "cell_type": "code",
   "execution_count": 47,
   "id": "34d12b6e-ea3f-48b2-b35c-a2d08adda3f6",
   "metadata": {},
   "outputs": [],
   "source": [
    "\n",
    "# Load CSV files with header and infer schema\n",
    "urban_df = spark.read.option(\"header\", \"true\").option(\"inferSchema\", \"true\").csv(\"C:/Users/kchangde/Downloads/FINAL_POPULATION_URBAN 2.csv\")\n",
    "\n",
    "rural_df = spark.read.option(\"header\", \"true\").option(\"inferSchema\", \"true\").csv(\"C:/Users/kchangde/Downloads/FINAL_POPULATION_RURAL 2.csv\")\n"
   ]
  },
  {
   "cell_type": "code",
   "execution_count": 48,
   "id": "405623f0-99bb-43cb-9d43-c71be5c6671b",
   "metadata": {},
   "outputs": [],
   "source": [
    "\n",
    "# Rename column in urban_df to match rural_df\n",
    "urban_renamed = urban_df.withColumnRenamed(\"DEVELOPMENT_CATEGORY\", \"DEVELOPMENT\")\n"
   ]
  },
  {
   "cell_type": "code",
   "execution_count": 49,
   "id": "f40d538a-50a8-49cc-912b-d50b44a8241d",
   "metadata": {},
   "outputs": [],
   "source": [
    "# Create list of year columns\n",
    "year_cols = [col(f\"D_{year}\") for year in range(1950, 2051, 5)]\n"
   ]
  },
  {
   "cell_type": "code",
   "execution_count": 54,
   "id": "750cd0e0-db9f-49d6-97c3-96e798cff2b7",
   "metadata": {},
   "outputs": [],
   "source": [
    "# Use reduce to sum the columns\n",
    "urban_with_total = urban_renamed.withColumn(\"TOTAL_POPULATION\", reduce(add, year_cols))\n",
    "rural_with_total = rural_df.withColumn(\"TOTAL_POPULATION\", reduce(add, year_cols))\n"
   ]
  },
  {
   "cell_type": "code",
   "execution_count": 55,
   "id": "a5608a37-0923-48ad-b43e-2354e2c7a41a",
   "metadata": {},
   "outputs": [],
   "source": [
    "\n",
    "# Merge datasets\n",
    "merged_df = urban_with_total.unionByName(rural_with_total)\n",
    "\n"
   ]
  },
  {
   "cell_type": "code",
   "execution_count": 57,
   "id": "02842ad7-7dcc-44c7-9f71-f94e6d41b427",
   "metadata": {},
   "outputs": [],
   "source": [
    "\n",
    "# Group by country and sum total population\n",
    "country_total = merged_df.groupBy(\"COUNTRY\").agg(_sum(\"TOTAL_POPULATION\").alias(\"TOTAL_POPULATION\"))\n"
   ]
  },
  {
   "cell_type": "code",
   "execution_count": 58,
   "id": "a70e949b-06c0-447b-9ebb-48698cc1f00f",
   "metadata": {},
   "outputs": [
    {
     "name": "stdout",
     "output_type": "stream",
     "text": [
      "Country-wise Total Population:\n",
      "+--------------------+----------------+\n",
      "|             COUNTRY|TOTAL_POPULATION|\n",
      "+--------------------+----------------+\n",
      "|                Chad|        228765.0|\n",
      "|            Anguilla|           251.0|\n",
      "|            Paraguay|        116634.0|\n",
      "|               Yemen|        493521.0|\n",
      "|             Senegal|        250071.0|\n",
      "|              Sweden|        190057.0|\n",
      "|             Tokelau|            32.0|\n",
      "|            Kiribati|          1831.0|\n",
      "|   Republic of Korea|        861101.0|\n",
      "|              Guyana|         15025.0|\n",
      "|             Eritrea|        105035.0|\n",
      "|         Philippines|       1696445.0|\n",
      "|            Djibouti|         15509.0|\n",
      "|Occupied Palestin...|         82537.0|\n",
      "|               Tonga|          2078.0|\n",
      "|            Malaysia|        502298.0|\n",
      "|           Singapore|         82304.0|\n",
      "|                Fiji|         15635.0|\n",
      "|              Turkey|       1282240.0|\n",
      "|United States Vir...|          1829.0|\n",
      "+--------------------+----------------+\n",
      "only showing top 20 rows\n",
      "\n"
     ]
    }
   ],
   "source": [
    "\n",
    "print(\"Country-wise Total Population:\")\n",
    "country_total.show()\n"
   ]
  },
  {
   "cell_type": "code",
   "execution_count": 60,
   "id": "b4afe8ba-44cf-4721-b305-5f9cf0ed20c5",
   "metadata": {},
   "outputs": [],
   "source": [
    "country_total.write.mode(\"overwrite\").orc(\"C:/Users/kchangde/Desktop/PY2.orc\")\n"
   ]
  },
  {
   "cell_type": "code",
   "execution_count": null,
   "id": "7a202bb8-9f31-4afd-adb7-da8aa60bbb16",
   "metadata": {},
   "outputs": [],
   "source": []
  }
 ],
 "metadata": {
  "kernelspec": {
   "display_name": "Python 3 (ipykernel)",
   "language": "python",
   "name": "python3"
  },
  "language_info": {
   "codemirror_mode": {
    "name": "ipython",
    "version": 3
   },
   "file_extension": ".py",
   "mimetype": "text/x-python",
   "name": "python",
   "nbconvert_exporter": "python",
   "pygments_lexer": "ipython3",
   "version": "3.11.0"
  }
 },
 "nbformat": 4,
 "nbformat_minor": 5
}
